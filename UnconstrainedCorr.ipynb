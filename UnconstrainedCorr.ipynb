{
 "cells": [
  {
   "cell_type": "code",
   "execution_count": 36,
   "metadata": {},
   "outputs": [],
   "source": [
    "import scipy\n",
    "import obspy\n",
    "import numpy as np\n",
    "import pandas as pd\n",
    "from scipy.fftpack.helper import next_fast_len\n",
    "import matplotlib.pyplot  as plt\n",
    "from scipy.signal import stft as stft\n",
    "from scipy.signal import istft as istft"
   ]
  },
  {
   "cell_type": "code",
   "execution_count": 37,
   "metadata": {},
   "outputs": [],
   "source": [
    "class sensor:\n",
    "    name = ''\n",
    "    z_30 = []\n",
    "    Power_30 = []\n",
    "    x = 0\n",
    "    y = 0\n",
    "    z = 0\n",
    "    data = []\n",
    "    Freq_30 = []\n",
    "    KR=[]\n",
    "    def __init__(self, str, name, x, y, z):\n",
    "        self.name = name\n",
    "        self.x = x\n",
    "        self.y = y\n",
    "        self.z = z\n",
    "        self.data = obspy.read(str, debug_headers=True)[0].data\n",
    "        \n",
    "    def get_stfft(sample_rate):\n",
    "        self.UPft = stft(self.data, sample_rate)\n",
    "        \n",
    "    def autoCorr(self):\n",
    "        freq, time, stR1 = stft(self.data, 100, nperseg=5000)\n",
    "            \n",
    "        t, x = istft(stR1**2)\n",
    "        \n",
    "        plt.plot(t, x)\n",
    "        plt.show()\n",
    "        \n",
    "        autoCorrR1 = []\n",
    "\n",
    "        freq, time, stR1 = stft(self.data, 100, nperseg=5000)\n",
    "\n",
    "        for window in range(len(stR1[:])):\n",
    "            autoCorrR1.append(stR1[window]**2)\n",
    "\n",
    "        PowerR1 = []\n",
    "        for i in range(len(stR1[:])):\n",
    "            PowerR1.append(sum(stR1[i])/len(stR1[i]))\n",
    "\n",
    "\n",
    "        z_30 = []\n",
    "        Power_30 = []\n",
    "        i = 0\n",
    "        while freq[i] <= 30:\n",
    "            z_30.append(freq[i])\n",
    "            Power_30.append(PowerR1[i])\n",
    "            i +=1\n",
    "\n",
    "        self.z_30 = z_30 \n",
    "        self.Power_30 = Power_30\n",
    "        \n",
    "        auto = (np.fft.ifft(Power_30))\n",
    "        \n",
    "#         plt.plot(np.arange(len(Power_30)), auto)\n",
    "#         plt.show()\n",
    "        \n",
    "        \n",
    "    def Power(self):\n",
    "        autoCorrR1 = []\n",
    "\n",
    "        freq, time, stR1 = stft(self.data, 100, nperseg=5000)\n",
    "\n",
    "        for window in range(len(stR1[:])):\n",
    "            autoCorrR1.append(stR1[window]**2)\n",
    "\n",
    "        PowerR1 = []\n",
    "        FreqR1 = []\n",
    "        for i in range(len(stR1[:])):\n",
    "            PowerR1.append(sum(autoCorrR1[i])/len(autoCorrR1[i]))\n",
    "            FreqR1.append(sum(stR1[i])/len(stR1[i]))\n",
    "\n",
    "\n",
    "        z_30 = []\n",
    "        Power_30 = []\n",
    "        Freq_30 = []\n",
    "        i = 0\n",
    "        while freq[i] <= 30:\n",
    "            z_30.append(freq[i])\n",
    "            Power_30.append(PowerR1[i])\n",
    "            Freq_30.append(FreqR1[i])\n",
    "            i +=1\n",
    "\n",
    "        self.z_30 = z_30 \n",
    "        self.Power_30 = Power_30\n",
    "        self.Freq_30 = Freq_30\n",
    "        \n",
    "#         plt.figure()\n",
    "#         plt.plot(z_30, Power_30)\n",
    "#         plt.ylim([0, max(Power_30) + 1.1*max(Power_30)])\n",
    "#         plt.title('STFT Power ' + self.name)\n",
    "#         plt.ylabel('Amplitude')\n",
    "#         plt.xlabel('Frequency (Hz)')\n",
    "#         plt.show()\n",
    "        \n",
    "        \n",
    "    #method to be written in the future    \n",
    "        \n",
    "    def KRTransform(self):\n",
    "        return"
   ]
  },
  {
   "cell_type": "code",
   "execution_count": 38,
   "metadata": {},
   "outputs": [],
   "source": [
    "#make an array of sensor objects here\n",
    "\n",
    "#Format\n",
    "# sensor(filename, sensor name, x, y, z)\n",
    "\n",
    "B1 = sensor('P2015171130000000_S6-B1_1_1.sac', 'B1', 0, 0, 0)\n",
    "B2 = sensor('P2015171130000000_S6-B2_1_1.sac', 'B2', 0, 0, 0)\n",
    "B3 = sensor('P2015171130000000_S6-B3_1_1.sac', 'B3', 0, 0, 0)\n",
    "C4 = sensor('P2015171130000000_S6-C4_1_1.sac', 'C4', 0, 0, 0)\n",
    "G1 = sensor('P2015171130000000_S6-G1_1_1.sac', 'G1', 0, 0, 0)\n",
    "G2 = sensor('P2015171130000000_S6-G2_1_1.sac', 'G2', 0, 0, 0)\n",
    "G3 = sensor('P2015171130000000_S6-G3_1_1.sac', 'G3', 0, 0, 0)\n",
    "R1 = sensor('P2015171130000000_S6-R1_1_1.sac', 'R1', 0, 0, 0)\n",
    "R2 = sensor('P2015171130000000_S6-R2_1_1.sac', 'R2', 0, 0, 0)\n",
    "R3 = sensor('P2015171130000000_S6-R2_1_1.sac', 'R2', 0, 0, 0)\n",
    "\n",
    "Array = [B1, B2, B3, C4, G1, G2, G3, R1, R2]\n",
    "\n",
    "B1.Power()"
   ]
  },
  {
   "cell_type": "code",
   "execution_count": 39,
   "metadata": {},
   "outputs": [],
   "source": [
    "def smooth(y, box_pts):\n",
    "    box = np.ones(box_pts)/box_pts\n",
    "    y_smooth = np.convolve(y, box, mode='same')\n",
    "    return y_smooth\n",
    "\n",
    "def DoCoherance(R1, R2):\n",
    "    R1.Power()\n",
    "    R2.Power()\n",
    "    CrossCorr1 = [] \n",
    "    \n",
    "    \n",
    "    \n",
    "    CrossCorr1 = ((R1.Freq_30*np.conj(R2.Freq_30))/np.sqrt(R1.Freq_30*np.conj(R1.Freq_30)*R2.Freq_30*np.conj(R2.Freq_30)))\n",
    "\n",
    "    SmoothCorr = smooth(CrossCorr1, 76)\n",
    "    \n",
    "    return SmoothCorr"
   ]
  },
  {
   "cell_type": "code",
   "execution_count": 40,
   "metadata": {},
   "outputs": [
    {
     "name": "stderr",
     "output_type": "stream",
     "text": [
      "C:\\Users\\rcoulsey\\Anaconda3\\lib\\site-packages\\numpy\\core\\_asarray.py:85: ComplexWarning: Casting complex values to real discards the imaginary part\n",
      "  return array(a, dtype, copy=False, order=order)\n"
     ]
    },
    {
     "data": {
      "image/png": "[encoded data removed]",
      "text/plain": [
       "<Figure size 432x288 with 1 Axes>"
      ]
     },
     "metadata": {
      "needs_background": "light"
     },
     "output_type": "display_data"
    }
   ],
   "source": [
    "##make ring ensembles\n",
    "RRing = [R1, R2, B1, C4]\n",
    "RCoher = []\n",
    "for i in range(len(RRing) - 1):\n",
    "    RCoher.append(DoCoherance(RRing[i], RRing[i+1]))\n",
    "    \n",
    "RCoher = np.array(RCoher)\n",
    "Ring1 = np.sum(RCoher, axis = 0)/len(RCoher[:, 0])\n",
    "\n",
    "plt.plot(np.arange(0, 30, 30/len(Ring1)), Ring1)\n",
    "plt.ylim([-1, 1])\n",
    "plt.title('Coherance For Ring 1')\n",
    "plt.xlabel('Frequency Hz')\n",
    "plt.show()"
   ]
  },
  {
   "cell_type": "code",
   "execution_count": 41,
   "metadata": {},
   "outputs": [
    {
     "name": "stderr",
     "output_type": "stream",
     "text": [
      "C:\\Users\\rcoulsey\\Anaconda3\\lib\\site-packages\\numpy\\core\\_asarray.py:85: ComplexWarning: Casting complex values to real discards the imaginary part\n",
      "  return array(a, dtype, copy=False, order=order)\n"
     ]
    },
    {
     "data": {
      "image/png": "[encoded data removed]",
      "text/plain": [
       "<Figure size 432x288 with 1 Axes>"
      ]
     },
     "metadata": {
      "needs_background": "light"
     },
     "output_type": "display_data"
    }
   ],
   "source": [
    "##make ring ensembles\n",
    "BRing = [R1, R2, B1, B2, B3]\n",
    "BCoher = []\n",
    "for i in range(len(BRing) - 1):\n",
    "    BCoher.append(DoCoherance(BRing[i], BRing[i+1]))\n",
    "    \n",
    "BCoher = np.array(BCoher)\n",
    "Ring2 = np.sum(BCoher, axis = 0)/len(BCoher[:, 0])\n",
    "\n",
    "plt.plot(np.arange(0, 30, 30/len(Ring2)), Ring2)\n",
    "plt.ylim([-1, 1])\n",
    "plt.title('Coherance For Ring 2')\n",
    "plt.xlabel('Frequency Hz')\n",
    "plt.show()"
   ]
  },
  {
   "cell_type": "code",
   "execution_count": 42,
   "metadata": {},
   "outputs": [
    {
     "name": "stderr",
     "output_type": "stream",
     "text": [
      "C:\\Users\\rcoulsey\\Anaconda3\\lib\\site-packages\\numpy\\core\\_asarray.py:85: ComplexWarning: Casting complex values to real discards the imaginary part\n",
      "  return array(a, dtype, copy=False, order=order)\n"
     ]
    },
    {
     "data": {
      "image/png": "[encoded data removed]",
      "text/plain": [
       "<Figure size 432x288 with 1 Axes>"
      ]
     },
     "metadata": {
      "needs_background": "light"
     },
     "output_type": "display_data"
    }
   ],
   "source": [
    "##make ring ensembles\n",
    "GRing = [G1, G2, B1, B2, B3, G3]\n",
    "GCoher = []\n",
    "for i in range(len(GRing) - 1):\n",
    "    GCoher.append(DoCoherance(BRing[i], GRing[i+1]))\n",
    "    \n",
    "GCoher = np.array(GCoher)\n",
    "Ring3 = np.sum(GCoher, axis = 0)/len(GCoher[:, 0])\n",
    "\n",
    "plt.plot(np.arange(0, 30, 30/len(Ring3)), Ring3)\n",
    "plt.ylim([-1, 1])\n",
    "plt.title('Coherance For Ring 3')\n",
    "plt.xlabel('Frequency Hz')\n",
    "plt.show()"
   ]
  },
  {
   "cell_type": "code",
   "execution_count": 50,
   "metadata": {},
   "outputs": [],
   "source": [
    "np.savetxt('ring1.txt', Ring1, fmt='%f')\n",
    "np.savetxt('ring2.txt', Ring2, fmt='%f')\n",
    "np.savetxt('ring3.txt', Ring3, fmt='%f')"
   ]
  },
  {
   "cell_type": "code",
   "execution_count": null,
   "metadata": {},
   "outputs": [],
   "source": []
  }
 ],
 "metadata": {
  "kernelspec": {
   "display_name": "Python 3",
   "language": "python",
   "name": "python3"
  },
  "language_info": {
   "codemirror_mode": {
    "name": "ipython",
    "version": 3
   },
   "file_extension": ".py",
   "mimetype": "text/x-python",
   "name": "python",
   "nbconvert_exporter": "python",
   "pygments_lexer": "ipython3",
   "version": "3.8.3"
  }
 },
 "nbformat": 4,
 "nbformat_minor": 4
}
